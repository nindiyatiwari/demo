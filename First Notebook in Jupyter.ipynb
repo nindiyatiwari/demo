{
    "cells": [
        {
            "cell_type": "markdown",
            "metadata": {},
            "source": "# Description\nThis notebook analyses and visualizes office supplies"
        },
        {
            "cell_type": "code",
            "execution_count": 1,
            "metadata": {},
            "outputs": [
                {
                    "data": {
                        "text/html": "<div>\n<style scoped>\n    .dataframe tbody tr th:only-of-type {\n        vertical-align: middle;\n    }\n\n    .dataframe tbody tr th {\n        vertical-align: top;\n    }\n\n    .dataframe thead th {\n        text-align: right;\n    }\n</style>\n<table border=\"1\" class=\"dataframe\">\n  <thead>\n    <tr style=\"text-align: right;\">\n      <th></th>\n      <th>OrderDate</th>\n      <th>Region</th>\n      <th>Rep</th>\n      <th>Item</th>\n      <th>Units</th>\n      <th>Unit Price</th>\n    </tr>\n  </thead>\n  <tbody>\n    <tr>\n      <th>0</th>\n      <td>2014-07-04</td>\n      <td>East</td>\n      <td>Richard</td>\n      <td>Pen Set</td>\n      <td>62</td>\n      <td>4.99</td>\n    </tr>\n    <tr>\n      <th>1</th>\n      <td>2014-07-12</td>\n      <td>East</td>\n      <td>Nick</td>\n      <td>Binder</td>\n      <td>29</td>\n      <td>1.99</td>\n    </tr>\n    <tr>\n      <th>2</th>\n      <td>2014-07-21</td>\n      <td>Central</td>\n      <td>Morgan</td>\n      <td>Pen Set</td>\n      <td>55</td>\n      <td>12.49</td>\n    </tr>\n    <tr>\n      <th>3</th>\n      <td>2014-07-29</td>\n      <td>East</td>\n      <td>Susan</td>\n      <td>Binder</td>\n      <td>81</td>\n      <td>19.99</td>\n    </tr>\n    <tr>\n      <th>4</th>\n      <td>2014-08-07</td>\n      <td>Central</td>\n      <td>Matthew</td>\n      <td>Pen Set</td>\n      <td>42</td>\n      <td>23.95</td>\n    </tr>\n  </tbody>\n</table>\n</div>",
                        "text/plain": "   OrderDate   Region      Rep     Item  Units  Unit Price\n0 2014-07-04     East  Richard  Pen Set     62        4.99\n1 2014-07-12     East     Nick   Binder     29        1.99\n2 2014-07-21  Central   Morgan  Pen Set     55       12.49\n3 2014-07-29     East    Susan   Binder     81       19.99\n4 2014-08-07  Central  Matthew  Pen Set     42       23.95"
                    },
                    "execution_count": 1,
                    "metadata": {},
                    "output_type": "execute_result"
                }
            ],
            "source": "# The code was removed by Watson Studio for sharing."
        },
        {
            "cell_type": "code",
            "execution_count": null,
            "metadata": {},
            "outputs": [],
            "source": ""
        },
        {
            "cell_type": "code",
            "execution_count": null,
            "metadata": {},
            "outputs": [],
            "source": ""
        }
    ],
    "metadata": {
        "kernelspec": {
            "display_name": "Python 3.6",
            "language": "python",
            "name": "python3"
        },
        "language_info": {
            "codemirror_mode": {
                "name": "ipython",
                "version": 3
            },
            "file_extension": ".py",
            "mimetype": "text/x-python",
            "name": "python",
            "nbconvert_exporter": "python",
            "pygments_lexer": "ipython3",
            "version": "3.6.9"
        }
    },
    "nbformat": 4,
    "nbformat_minor": 1
}